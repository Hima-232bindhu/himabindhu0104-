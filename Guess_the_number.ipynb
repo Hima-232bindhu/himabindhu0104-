{
  "nbformat": 4,
  "nbformat_minor": 0,
  "metadata": {
    "colab": {
      "provenance": [],
      "authorship_tag": "ABX9TyMf1hm0fHs0XxV+Kik2oflm",
      "include_colab_link": true
    },
    "kernelspec": {
      "name": "python3",
      "display_name": "Python 3"
    },
    "language_info": {
      "name": "python"
    }
  },
  "cells": [
    {
      "cell_type": "markdown",
      "metadata": {
        "id": "view-in-github",
        "colab_type": "text"
      },
      "source": [
        "<a href=\"https://colab.research.google.com/github/Hima-232bindhu/himabindhu0104-/blob/main/Guess_the_number.ipynb\" target=\"_parent\"><img src=\"https://colab.research.google.com/assets/colab-badge.svg\" alt=\"Open In Colab\"/></a>"
      ]
    },
    {
      "cell_type": "code",
      "execution_count": 1,
      "metadata": {
        "colab": {
          "base_uri": "https://localhost:8080/"
        },
        "id": "BP_b8n0vXDQ6",
        "outputId": "4055f452-915b-48b4-8566-7835797061aa"
      },
      "outputs": [
        {
          "output_type": "stream",
          "name": "stdout",
          "text": [
            "Welcome to the Guess the Number game!\n",
            "I'm thinking of a number between 1 and 100.\n",
            "Your guess: 4\n",
            "Try a higher number.\n",
            "Your guess: 24\n",
            "Try a lower number.\n",
            "Your guess: 1\n",
            "Try a higher number.\n",
            "Your guess: 5\n",
            "Try a higher number.\n",
            "Your guess: 15\n",
            "Try a lower number.\n",
            "Your guess: 12\n",
            "Congratulations! You've guessed the number in 6 attempts.\n",
            "Thank you for playing!\n"
          ]
        }
      ],
      "source": [
        "import random\n",
        "\n",
        "# Generate a random number between 1 and 100\n",
        "secret_number = random.randint(1, 100)\n",
        "attempts = 0\n",
        "\n",
        "print(\"Welcome to the Guess the Number game!\")\n",
        "print(\"I'm thinking of a number between 1 and 100.\")\n",
        "\n",
        "while True:\n",
        "    try:\n",
        "        guess = int(input(\"Your guess: \"))\n",
        "        attempts += 1\n",
        "\n",
        "        if guess < secret_number:\n",
        "            print(\"Try a higher number.\")\n",
        "        elif guess > secret_number:\n",
        "            print(\"Try a lower number.\")\n",
        "        else:\n",
        "            print(f\"Congratulations! You've guessed the number in {attempts} attempts.\")\n",
        "            break\n",
        "\n",
        "    except ValueError:\n",
        "        print(\"Invalid input. Please enter a number between 1 and 100.\")\n",
        "\n",
        "print(\"Thank you for playing!\")"
      ]
    }
  ]
}