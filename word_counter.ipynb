{
  "nbformat": 4,
  "nbformat_minor": 0,
  "metadata": {
    "colab": {
      "provenance": [],
      "authorship_tag": "ABX9TyPCh8Sq/hBguqBt2W7AR7/L",
      "include_colab_link": true
    },
    "kernelspec": {
      "name": "python3",
      "display_name": "Python 3"
    },
    "language_info": {
      "name": "python"
    }
  },
  "cells": [
    {
      "cell_type": "markdown",
      "metadata": {
        "id": "view-in-github",
        "colab_type": "text"
      },
      "source": [
        "<a href=\"https://colab.research.google.com/github/Hima-232bindhu/himabindhu0104-/blob/main/word_counter.ipynb\" target=\"_parent\"><img src=\"https://colab.research.google.com/assets/colab-badge.svg\" alt=\"Open In Colab\"/></a>"
      ]
    },
    {
      "cell_type": "code",
      "execution_count": 1,
      "metadata": {
        "colab": {
          "base_uri": "https://localhost:8080/"
        },
        "id": "nVXKF5YjYfgX",
        "outputId": "3ed93457-c4b7-4c56-abe0-21e660cacca9"
      },
      "outputs": [
        {
          "output_type": "stream",
          "name": "stdout",
          "text": [
            "Enter some text: hima bindhu\n",
            "Word count: 2\n"
          ]
        }
      ],
      "source": [
        "def count_words(text):\n",
        "    # Split the text into words using whitespace as a delimiter\n",
        "    words = text.split()\n",
        "    return len(words)\n",
        "\n",
        "# Get input text from the user\n",
        "text = input(\"Enter some text: \")\n",
        "\n",
        "# Call the count_words function to count the words\n",
        "word_count = count_words(text)\n",
        "\n",
        "# Display the word count\n",
        "print(f\"Word count: {word_count}\")"
      ]
    }
  ]
}